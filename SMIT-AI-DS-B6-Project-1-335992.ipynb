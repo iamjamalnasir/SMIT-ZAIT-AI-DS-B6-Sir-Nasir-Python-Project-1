{
 "cells": [
  {
   "cell_type": "code",
   "execution_count": 2,
   "id": "8b876b47-1372-42de-aa0a-83bb2561939f",
   "metadata": {},
   "outputs": [
    {
     "name": "stdout",
     "output_type": "stream",
     "text": [
      "AOA SMIT\n"
     ]
    }
   ],
   "source": [
    "print('AOA SMIT')"
   ]
  },
  {
   "cell_type": "code",
   "execution_count": null,
   "id": "d829c2ad-b50c-4092-a554-68f7abebb7b6",
   "metadata": {},
   "outputs": [],
   "source": []
  }
 ],
 "metadata": {
  "kernelspec": {
   "display_name": "Python 3 (ipykernel)",
   "language": "python",
   "name": "python3"
  },
  "language_info": {
   "codemirror_mode": {
    "name": "ipython",
    "version": 3
   },
   "file_extension": ".py",
   "mimetype": "text/x-python",
   "name": "python",
   "nbconvert_exporter": "python",
   "pygments_lexer": "ipython3",
   "version": "3.12.7"
  }
 },
 "nbformat": 4,
 "nbformat_minor": 5
}
